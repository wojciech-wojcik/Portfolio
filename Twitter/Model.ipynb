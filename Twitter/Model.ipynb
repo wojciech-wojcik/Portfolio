{
 "cells": [
  {
   "cell_type": "markdown",
   "metadata": {},
   "source": [
    "# Klasyfikacja tekstu"
   ]
  },
  {
   "cell_type": "markdown",
   "metadata": {},
   "source": [
    "## Spis treści\n",
    "* 1 [Wstęp](#_1)\n",
    "* 2 [Wczytanie oraz przygotowanie danych](#_2)\n",
    "* 3 [Wybór elementów potoku](#_3)\n",
    "* 4 [Wybór wartości granicznej](#_4)\n",
    "* 5 [Zapisanie modelu](#_5)"
   ]
  },
  {
   "cell_type": "markdown",
   "metadata": {},
   "source": [
    "<a id='_1'></a>\n",
    "## 1. Wstęp\n",
    "W celu stworzenia modelu analizującego sentymenty, w tekście wykorzystano [zbiór danych](https://www.kaggle.com/kazanova/sentiment140) zawierający 1600000 tweetów. Zostały one sklasyfikowane, jako pozytywne lub negatywne na podstawie występowania emonitonek. "
   ]
  },
  {
   "cell_type": "code",
   "execution_count": 1,
   "metadata": {},
   "outputs": [],
   "source": [
    "import findspark\n",
    "findspark.init('/home/wojciech/spark-2.3.1-bin-hadoop2.7')"
   ]
  },
  {
   "cell_type": "code",
   "execution_count": 2,
   "metadata": {},
   "outputs": [],
   "source": [
    "from pyspark import SparkContext\n",
    "from pyspark.sql import SparkSession\n",
    "from pyspark.ml import Pipeline\n",
    "from pyspark.ml.feature import (RegexTokenizer,StopWordsRemover,\n",
    "                                CountVectorizer, HashingTF,IDF,\n",
    "                                VectorAssembler, NGram)\n",
    "from pyspark.ml.classification import NaiveBayes\n",
    "import matplotlib.pyplot as plt\n",
    "from sklearn.model_selection import ParameterGrid\n",
    "from tqdm import tqdm\n",
    "import numpy as np\n",
    "from sklearn import metrics\n",
    "%matplotlib inline\n",
    "import warnings\n",
    "warnings.filterwarnings('ignore')"
   ]
  },
  {
   "cell_type": "code",
   "execution_count": 3,
   "metadata": {},
   "outputs": [],
   "source": [
    "SparkContext.setSystemProperty('spark.executor.memory', '10g')\n",
    "SparkContext.setSystemProperty('spark.driver.memory', '10g')\n",
    "spark = SparkSession.builder.appName('TwitterModel').getOrCreate()"
   ]
  },
  {
   "cell_type": "code",
   "execution_count": 4,
   "metadata": {},
   "outputs": [
    {
     "data": {
      "text/html": [
       "\n",
       "            <div>\n",
       "                <p><b>SparkSession - in-memory</b></p>\n",
       "                \n",
       "        <div>\n",
       "            <p><b>SparkContext</b></p>\n",
       "\n",
       "            <p><a href=\"http://antergos:4040\">Spark UI</a></p>\n",
       "\n",
       "            <dl>\n",
       "              <dt>Version</dt>\n",
       "                <dd><code>v2.3.1</code></dd>\n",
       "              <dt>Master</dt>\n",
       "                <dd><code>local[*]</code></dd>\n",
       "              <dt>AppName</dt>\n",
       "                <dd><code>TwitterModel</code></dd>\n",
       "            </dl>\n",
       "        </div>\n",
       "        \n",
       "            </div>\n",
       "        "
      ],
      "text/plain": [
       "<pyspark.sql.session.SparkSession at 0x7f5640a0ff28>"
      ]
     },
     "execution_count": 4,
     "metadata": {},
     "output_type": "execute_result"
    }
   ],
   "source": [
    "spark"
   ]
  },
  {
   "cell_type": "markdown",
   "metadata": {},
   "source": [
    "<a id='_2'></a>\n",
    "## 2. Wczytanie oraz przygotowanie danych"
   ]
  },
  {
   "cell_type": "code",
   "execution_count": 5,
   "metadata": {},
   "outputs": [],
   "source": [
    "df = spark.read.csv('../../../BigInput/training.1600000.processed.noemoticon.csv',\n",
    "                   header=False)"
   ]
  },
  {
   "cell_type": "code",
   "execution_count": 6,
   "metadata": {},
   "outputs": [
    {
     "data": {
      "text/html": [
       "<div>\n",
       "<style scoped>\n",
       "    .dataframe tbody tr th:only-of-type {\n",
       "        vertical-align: middle;\n",
       "    }\n",
       "\n",
       "    .dataframe tbody tr th {\n",
       "        vertical-align: top;\n",
       "    }\n",
       "\n",
       "    .dataframe thead th {\n",
       "        text-align: right;\n",
       "    }\n",
       "</style>\n",
       "<table border=\"1\" class=\"dataframe\">\n",
       "  <thead>\n",
       "    <tr style=\"text-align: right;\">\n",
       "      <th></th>\n",
       "      <th>_c0</th>\n",
       "      <th>_c1</th>\n",
       "      <th>_c2</th>\n",
       "      <th>_c3</th>\n",
       "      <th>_c4</th>\n",
       "      <th>_c5</th>\n",
       "    </tr>\n",
       "  </thead>\n",
       "  <tbody>\n",
       "    <tr>\n",
       "      <th>0</th>\n",
       "      <td>0</td>\n",
       "      <td>1467810369</td>\n",
       "      <td>Mon Apr 06 22:19:45 PDT 2009</td>\n",
       "      <td>NO_QUERY</td>\n",
       "      <td>_TheSpecialOne_</td>\n",
       "      <td>@switchfoot http://twitpic.com/2y1zl - Awww, t...</td>\n",
       "    </tr>\n",
       "    <tr>\n",
       "      <th>1</th>\n",
       "      <td>0</td>\n",
       "      <td>1467810672</td>\n",
       "      <td>Mon Apr 06 22:19:49 PDT 2009</td>\n",
       "      <td>NO_QUERY</td>\n",
       "      <td>scotthamilton</td>\n",
       "      <td>is upset that he can't update his Facebook by ...</td>\n",
       "    </tr>\n",
       "    <tr>\n",
       "      <th>2</th>\n",
       "      <td>0</td>\n",
       "      <td>1467810917</td>\n",
       "      <td>Mon Apr 06 22:19:53 PDT 2009</td>\n",
       "      <td>NO_QUERY</td>\n",
       "      <td>mattycus</td>\n",
       "      <td>@Kenichan I dived many times for the ball. Man...</td>\n",
       "    </tr>\n",
       "    <tr>\n",
       "      <th>3</th>\n",
       "      <td>0</td>\n",
       "      <td>1467811184</td>\n",
       "      <td>Mon Apr 06 22:19:57 PDT 2009</td>\n",
       "      <td>NO_QUERY</td>\n",
       "      <td>ElleCTF</td>\n",
       "      <td>my whole body feels itchy and like its on fire</td>\n",
       "    </tr>\n",
       "    <tr>\n",
       "      <th>4</th>\n",
       "      <td>0</td>\n",
       "      <td>1467811193</td>\n",
       "      <td>Mon Apr 06 22:19:57 PDT 2009</td>\n",
       "      <td>NO_QUERY</td>\n",
       "      <td>Karoli</td>\n",
       "      <td>@nationwideclass no, it's not behaving at all....</td>\n",
       "    </tr>\n",
       "  </tbody>\n",
       "</table>\n",
       "</div>"
      ],
      "text/plain": [
       "  _c0         _c1                           _c2       _c3              _c4  \\\n",
       "0   0  1467810369  Mon Apr 06 22:19:45 PDT 2009  NO_QUERY  _TheSpecialOne_   \n",
       "1   0  1467810672  Mon Apr 06 22:19:49 PDT 2009  NO_QUERY    scotthamilton   \n",
       "2   0  1467810917  Mon Apr 06 22:19:53 PDT 2009  NO_QUERY         mattycus   \n",
       "3   0  1467811184  Mon Apr 06 22:19:57 PDT 2009  NO_QUERY          ElleCTF   \n",
       "4   0  1467811193  Mon Apr 06 22:19:57 PDT 2009  NO_QUERY           Karoli   \n",
       "\n",
       "                                                 _c5  \n",
       "0  @switchfoot http://twitpic.com/2y1zl - Awww, t...  \n",
       "1  is upset that he can't update his Facebook by ...  \n",
       "2  @Kenichan I dived many times for the ball. Man...  \n",
       "3    my whole body feels itchy and like its on fire   \n",
       "4  @nationwideclass no, it's not behaving at all....  "
      ]
     },
     "execution_count": 6,
     "metadata": {},
     "output_type": "execute_result"
    }
   ],
   "source": [
    "df.limit(5).toPandas()"
   ]
  },
  {
   "cell_type": "code",
   "execution_count": 7,
   "metadata": {},
   "outputs": [
    {
     "name": "stdout",
     "output_type": "stream",
     "text": [
      "+---+------+\n",
      "|_c0| count|\n",
      "+---+------+\n",
      "|  0|800000|\n",
      "|  4|800000|\n",
      "+---+------+\n",
      "\n"
     ]
    }
   ],
   "source": [
    "df.groupBy('_c0').count().show()"
   ]
  },
  {
   "cell_type": "code",
   "execution_count": 8,
   "metadata": {},
   "outputs": [
    {
     "name": "stdout",
     "output_type": "stream",
     "text": [
      "+------+------+\n",
      "|target| count|\n",
      "+------+------+\n",
      "|     0|800000|\n",
      "|     1|800000|\n",
      "+------+------+\n",
      "\n"
     ]
    }
   ],
   "source": [
    "df = df.select(['_c0','_c5']).withColumn('_c0', df['_c0'].cast(\"int\"))\n",
    "df = df.rdd.map(lambda x: ((1 if x[0]==4 else 0),x[1])).toDF(['target','text']).cache()\n",
    "df.groupBy('target').count().show()"
   ]
  },
  {
   "cell_type": "code",
   "execution_count": 9,
   "metadata": {},
   "outputs": [
    {
     "name": "stdout",
     "output_type": "stream",
     "text": [
      "root\n",
      " |-- target: long (nullable = true)\n",
      " |-- text: string (nullable = true)\n",
      "\n"
     ]
    }
   ],
   "source": [
    "df.printSchema()"
   ]
  },
  {
   "cell_type": "code",
   "execution_count": 10,
   "metadata": {},
   "outputs": [],
   "source": [
    "df_s = df.sample(fraction=.01,seed=42)"
   ]
  },
  {
   "cell_type": "code",
   "execution_count": 11,
   "metadata": {
    "scrolled": true
   },
   "outputs": [],
   "source": [
    "def get_stages(step_list,class_grid):\n",
    "    grid = ParameterGrid(class_grid)\n",
    "    for params in grid:\n",
    "        inputCol = 'token_text'\n",
    "        tokenizer = RegexTokenizer(inputCol='text',outputCol='token_text',pattern=\"\\\\W\")\n",
    "        l = [tokenizer]\n",
    "        names = []\n",
    "        for s in step_list:\n",
    "            if params[s]:\n",
    "                if s=='idf':\n",
    "                    l.append(params[s](inputCol=inputCol,\n",
    "                                       outputCol=s,minDocFreq=2))\n",
    "                elif s=='ngram':\n",
    "                    l.append(params[s](inputCol=inputCol,\n",
    "                                       outputCol=s,n=2))\n",
    "                else:\n",
    "                    l.append(params[s](inputCol=inputCol,outputCol=s))\n",
    "                inputCol=s\n",
    "                names.append(s)\n",
    "        yield (inputCol,l)\n",
    "\n",
    "def test_model(classifier,stages,df):\n",
    "    results = dict()        \n",
    "    for (outputCol,stages) in tqdm(stages):\n",
    "        name='_'.join([type(e).__name__ for e in stages])\n",
    "        #print(name)\n",
    "        data_prep_pipe = Pipeline(stages=stages)\n",
    "        transformer = data_prep_pipe.fit(df)\n",
    "        tf_idf = transformer.transform(df)\n",
    "        traninig,test = tf_idf.randomSplit([0.9,0.1],seed=42)\n",
    "        model = classifier(featuresCol=outputCol,labelCol='target')\n",
    "        sentiment_classifier = model.fit(traninig)\n",
    "        test_results = sentiment_classifier.transform(test)\n",
    "        results[name] = [(prob[1],target,pred) for prob,target,pred in \n",
    "                         test_results.select([\"probability\",\"target\",\"prediction\"])\n",
    "                         .rdd.map(lambda x: (x[0],x[1],x[2])).collect()]\n",
    "    return results\n",
    "\n",
    "def plot_top(results,top=5):\n",
    "    plt.figure(figsize=(12,7))\n",
    "    l = []\n",
    "    for (name,e) in results.items():\n",
    "        scores, y_true, y_pred = list(zip(*e))\n",
    "        fpr, tpr, thresholds = metrics.roc_curve(y_true, scores)\n",
    "        auc = metrics.auc(fpr, tpr)\n",
    "        accuracy = metrics.accuracy_score(y_true,y_pred)\n",
    "        name = name.replace('RegexTokenizer_','')+' %.2f [%.2f]'%(auc,accuracy)\n",
    "        l.append((fpr,tpr,name,auc))\n",
    "    l=list(sorted(l,key=lambda x:x[-1],reverse=True))\n",
    "    for (x,y,name,_) in l[:top]:\n",
    "        plt.plot(x,y,label=name)\n",
    "    plt.legend(bbox_to_anchor=(1.0, 1),title='Nazwa AUC [ACC]')\n",
    "    title='Krzywe ROC testowanych algorytmów',\n",
    "    plt.ylabel('Wyniki prawdziwie pozytywne')\n",
    "    plt.xlabel('Wyniki fałszywie pozytywne')\n",
    "    plt.title('Krzywe ROC testowanych zestawów')"
   ]
  },
  {
   "cell_type": "code",
   "execution_count": 12,
   "metadata": {},
   "outputs": [],
   "source": [
    "step_list = 'stop','ngram','vec','idf'\n",
    "class_grid = {'stop': [None,StopWordsRemover],\n",
    "              'ngram' :[None, NGram,],\n",
    "              'vec':[HashingTF,CountVectorizer],\n",
    "              'idf':[None,IDF]\n",
    "             }"
   ]
  },
  {
   "cell_type": "markdown",
   "metadata": {},
   "source": [
    "<a id='_3'></a>\n",
    "## 3. Wybór elementów potoku"
   ]
  },
  {
   "cell_type": "code",
   "execution_count": 13,
   "metadata": {},
   "outputs": [
    {
     "name": "stderr",
     "output_type": "stream",
     "text": [
      "16it [01:02,  3.88s/it]\n"
     ]
    },
    {
     "data": {
      "image/png": "[encoded data removed]",
      "text/plain": [
       "<matplotlib.figure.Figure at 0x7f561594d128>"
      ]
     },
     "metadata": {},
     "output_type": "display_data"
    }
   ],
   "source": [
    "stages = get_stages(step_list,class_grid)\n",
    "results = test_model(NaiveBayes,stages,df_s)\n",
    "plot_top(results)"
   ]
  },
  {
   "cell_type": "markdown",
   "metadata": {},
   "source": [
    "<a id='_4'></a>\n",
    "## 4. Wybór wartości granicznej"
   ]
  },
  {
   "cell_type": "code",
   "execution_count": 14,
   "metadata": {},
   "outputs": [
    {
     "data": {
      "image/png": "[encoded data removed]",
      "text/plain": [
       "<matplotlib.figure.Figure at 0x7f561565ad30>"
      ]
     },
     "metadata": {},
     "output_type": "display_data"
    }
   ],
   "source": [
    "prob,y_true, _ = zip(*results['RegexTokenizer_CountVectorizer'])\n",
    "fpr, tpr, thresholds = metrics.roc_curve(y_true, prob)\n",
    "plt.plot(thresholds,tpr,label='Prawdziwie pozytywne')\n",
    "plt.plot(thresholds,fpr,label='Fałszywie pozytywne')\n",
    "plt.xlabel('Granica')\n",
    "plt.ylabel('Wskaźnik pozytywnych wskazań')\n",
    "plt.legend()\n",
    "plt.xlim([.9,1.01])\n",
    "plt.ylim([0,.5]);"
   ]
  },
  {
   "cell_type": "code",
   "execution_count": 22,
   "metadata": {},
   "outputs": [
    {
     "name": "stdout",
     "output_type": "stream",
     "text": [
      "0.95 0.023195876288659795 0.19283065512978986\n"
     ]
    }
   ],
   "source": [
    "the = .95\n",
    "ind = np.where(thresholds>=the)\n",
    "print(the,fpr[ind[0][-1]],tpr[ind[0][-1]])\n",
    "#plt.plot((tpr/fpr)[np.where(thresholds>=the)]);"
   ]
  },
  {
   "cell_type": "code",
   "execution_count": 33,
   "metadata": {},
   "outputs": [
    {
     "name": "stdout",
     "output_type": "stream",
     "text": [
      "             precision    recall  f1-score   support\n",
      "\n",
      "          0       0.87      0.32      0.47       776\n",
      "          1       0.90      0.19      0.32       809\n",
      "          2       0.00      0.00      0.00         0\n",
      "\n",
      "avg / total       0.88      0.26      0.39      1585\n",
      "\n"
     ]
    }
   ],
   "source": [
    "def map_prob(x):\n",
    "    if x>=.95:\n",
    "        return 1\n",
    "    if x<=.05:\n",
    "        return 0 \n",
    "    return 2\n",
    "\n",
    "print(metrics.classification_report(y_true,[map_prob(e) for e in prob]))"
   ]
  },
  {
   "cell_type": "markdown",
   "metadata": {},
   "source": [
    "Dla prawdopodobieństwa przynależności do danej klasy na poziomie 0.95:\n",
    "* poprawnie wychwycono 32% komentarzy negatywnych oraz 19% komentarzy pozytywnych;\n",
    "* precyzja wyniosła 87%, dla komentarzy negatywnych oraz 90%, dla komentarzy pozytywnych. "
   ]
  },
  {
   "cell_type": "markdown",
   "metadata": {},
   "source": [
    "Reszta została zakwalifikowana do grupy neutralnej. Dzięki ustanowieniu tej granicy liczba fałszywie pozytywnych rezultatów, została zmniejszona. Umożliwiło to, także klasyfikację komentarzy, jako neutralne."
   ]
  },
  {
   "cell_type": "code",
   "execution_count": 16,
   "metadata": {},
   "outputs": [],
   "source": [
    "tokenizer = RegexTokenizer(inputCol='text',outputCol='token_text',pattern=\"\\\\W\")\n",
    "vect = CountVectorizer(inputCol='token_text',outputCol='vec_text')\n",
    "nb = NaiveBayes(featuresCol='vec_text',labelCol='target')\n",
    "data_prep_pipe = Pipeline(stages=[tokenizer,vect])\n",
    "transformer = data_prep_pipe.fit(df)\n",
    "tf_idf = transformer.transform(df)\n",
    "traninig,test = tf_idf.randomSplit([0.9,0.1],seed=42)\n",
    "sentiment_classifier = nb.fit(traninig)\n",
    "test_results = sentiment_classifier.transform(test)"
   ]
  },
  {
   "cell_type": "code",
   "execution_count": 17,
   "metadata": {},
   "outputs": [
    {
     "name": "stdout",
     "output_type": "stream",
     "text": [
      "+----------+-----+\n",
      "|prediction|count|\n",
      "+----------+-----+\n",
      "|       0.0|83495|\n",
      "|       1.0|76400|\n",
      "+----------+-----+\n",
      "\n"
     ]
    }
   ],
   "source": [
    "test_results.groupBy('prediction').count().show()"
   ]
  },
  {
   "cell_type": "code",
   "execution_count": 18,
   "metadata": {},
   "outputs": [
    {
     "data": {
      "text/plain": [
       "[(0, 117734), (1, 18937), (-1, 23224)]"
      ]
     },
     "execution_count": 18,
     "metadata": {},
     "output_type": "execute_result"
    }
   ],
   "source": [
    "def map_fun(x):\n",
    "    if x>=.97:\n",
    "        return 1\n",
    "    if x<=.03:\n",
    "        return -1\n",
    "    return 0\n",
    "\n",
    "test_results.select('probability').rdd\\\n",
    "    .map(lambda x:map_fun(x[0][1]))\\\n",
    "    .map(lambda x:(x,1))\\\n",
    "    .reduceByKey(lambda a,b:a+b)\\\n",
    "    .collect()"
   ]
  },
  {
   "cell_type": "markdown",
   "metadata": {},
   "source": [
    "<a id='_5'></a>\n",
    "## 5. Zapis modelu"
   ]
  },
  {
   "cell_type": "code",
   "execution_count": 19,
   "metadata": {},
   "outputs": [],
   "source": [
    "tokenizer = RegexTokenizer(inputCol='text',outputCol='token_text',pattern=\"\\\\W\")\n",
    "vect = CountVectorizer(inputCol='token_text',outputCol='vec_text')\n",
    "nb = NaiveBayes(featuresCol='vec_text',labelCol='target')\n",
    "data_prep_pipe = Pipeline(stages=[tokenizer,vect,nb])\n",
    "pip = data_prep_pipe.fit(df)\n",
    "pip.write().overwrite().save('NaiveBayesModel')"
   ]
  }
 ],
 "metadata": {
  "kernelspec": {
   "display_name": "Python 3",
   "language": "python",
   "name": "python3"
  },
  "language_info": {
   "codemirror_mode": {
    "name": "ipython",
    "version": 3
   },
   "file_extension": ".py",
   "mimetype": "text/x-python",
   "name": "python",
   "nbconvert_exporter": "python",
   "pygments_lexer": "ipython3",
   "version": "3.5.4"
  },
  "varInspector": {
   "cols": {
    "lenName": 16,
    "lenType": 16,
    "lenVar": 40
   },
   "kernels_config": {
    "python": {
     "delete_cmd_postfix": "",
     "delete_cmd_prefix": "del ",
     "library": "var_list.py",
     "varRefreshCmd": "print(var_dic_list())"
    },
    "r": {
     "delete_cmd_postfix": ") ",
     "delete_cmd_prefix": "rm(",
     "library": "var_list.r",
     "varRefreshCmd": "cat(var_dic_list()) "
    }
   },
   "types_to_exclude": [
    "module",
    "function",
    "builtin_function_or_method",
    "instance",
    "_Feature"
   ],
   "window_display": false
  }
 },
 "nbformat": 4,
 "nbformat_minor": 2
}
