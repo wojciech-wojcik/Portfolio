{
 "cells": [
  {
   "cell_type": "markdown",
   "metadata": {},
   "source": [
    "# Rekomendacje filmów\n",
    "## Spis treści:\n",
    "* 1 [Wstęp](#_1)\n",
    "* 2 [Testy](#_2)\n",
    "* 3 [Wczytanie danych](#_3)\n",
    "* 4 [Eksploracja zbioru](#_4)\n",
    "    * 4.1 [10 gatunków filmowych z największą liczbą produkcji](#_4_1)\n",
    "    * 4.2 [10 najczęściej ocenianych gatunków filmowych](#_4_2)\n",
    "    * 4.3 [10 najlepiej ocenianych gatunków filmowych](#_4_3)\n",
    "* 5 [Rekomendacje](#_5)"
   ]
  },
  {
   "cell_type": "markdown",
   "metadata": {},
   "source": [
    "<a id='_1'></a>\n",
    "## 1. Wstęp\n",
    "Chyba każdy lubi spędzić od czasu do czasu wieczór na oglądaniu dobrego filmu. Zwłaszcza jesienią, kiedy wieczory stają się coraz dłuższe. Problem w tym, że żeby go obejrzeć, trzeba go najpierw znaleźć i tu pojawia się pomysł na stworzenie systemu rekomendacji.<br>\n",
    "Rekomendacje stworzono z wykorzystaniem zbioru [movielens](https://grouplens.org/datasets/movielens/). Zawiera on 27 tysięcy filmów, w stosunku do których 138 tysięcy użytkowników wystawiło w sumie 20 milionów ocen. "
   ]
  },
  {
   "cell_type": "markdown",
   "metadata": {},
   "source": [
    "<a id='_2'></a>\n",
    "## 2. Testy\n",
    "Aby uniknąć dość kosztownych czasowo błędów, zastosowano testy. Takie rozwiązanie oszczędza moc obliczeniową dzięki sprawdzeniu poprawności na kilku rekordach zamiast np. na kilku milionach. Ułatwia także wprowadzanie zmian, ponieważ od razu dostarcza informacji, który element potoku zachowuję się nieprawidłowo.<br> Podczas tworzenia testów wykorzystano informacje znajdujące się w [artykule](https://engblog.nextdoor.com/unit-testing-apache-spark-with-py-test-3b8970dc013b)."
   ]
  },
  {
   "cell_type": "code",
   "execution_count": 1,
   "metadata": {},
   "outputs": [
    {
     "name": "stdout",
     "output_type": "stream",
     "text": [
      "============================= test session starts ==============================\n",
      "platform linux -- Python 3.5.4, pytest-3.8.0, py-1.6.0, pluggy-0.7.1\n",
      "rootdir: /home/wojciech/Data Science/Portfolio/Rekomendacje, inifile:\n",
      "collected 10 items\n",
      "\n",
      "tests.py ..........                                                      [100%]\n",
      "\n",
      "========================== 10 passed in 18.09 seconds ==========================\n"
     ]
    }
   ],
   "source": [
    "import ipytest\n",
    "ipytest.run_pytest(filename='tests.py');"
   ]
  },
  {
   "cell_type": "markdown",
   "metadata": {},
   "source": [
    "<a id='_3'></a>\n",
    "## 3. Wczytanie danych"
   ]
  },
  {
   "cell_type": "code",
   "execution_count": 2,
   "metadata": {},
   "outputs": [],
   "source": [
    "import findspark\n",
    "findspark.init()"
   ]
  },
  {
   "cell_type": "code",
   "execution_count": 3,
   "metadata": {},
   "outputs": [],
   "source": [
    "from pyspark.sql import SparkSession\n",
    "from pyspark import StorageLevel\n",
    "from pyspark.sql.functions import lower,col\n",
    "from time import time\n",
    "import seaborn as sns\n",
    "import matplotlib.pyplot as plt\n",
    "%matplotlib inline\n",
    "spark = SparkSession.builder.appName('Rekomendacje').getOrCreate()\n",
    "sc = spark.sparkContext"
   ]
  },
  {
   "cell_type": "code",
   "execution_count": 4,
   "metadata": {},
   "outputs": [],
   "source": [
    "df_movies = spark.read.csv('../../../BigInput/ml-20m/movies.csv',\n",
    "                   header=True,inferSchema=True)"
   ]
  },
  {
   "cell_type": "code",
   "execution_count": 5,
   "metadata": {},
   "outputs": [
    {
     "name": "stdout",
     "output_type": "stream",
     "text": [
      "root\n",
      " |-- movieId: integer (nullable = true)\n",
      " |-- title: string (nullable = true)\n",
      " |-- genres: string (nullable = true)\n",
      "\n"
     ]
    }
   ],
   "source": [
    "df_movies.printSchema()"
   ]
  },
  {
   "cell_type": "code",
   "execution_count": 6,
   "metadata": {},
   "outputs": [
    {
     "data": {
      "text/html": [
       "<div>\n",
       "<style scoped>\n",
       "    .dataframe tbody tr th:only-of-type {\n",
       "        vertical-align: middle;\n",
       "    }\n",
       "\n",
       "    .dataframe tbody tr th {\n",
       "        vertical-align: top;\n",
       "    }\n",
       "\n",
       "    .dataframe thead th {\n",
       "        text-align: right;\n",
       "    }\n",
       "</style>\n",
       "<table border=\"1\" class=\"dataframe\">\n",
       "  <thead>\n",
       "    <tr style=\"text-align: right;\">\n",
       "      <th></th>\n",
       "      <th>movieId</th>\n",
       "      <th>title</th>\n",
       "      <th>genres</th>\n",
       "    </tr>\n",
       "  </thead>\n",
       "  <tbody>\n",
       "    <tr>\n",
       "      <th>0</th>\n",
       "      <td>1</td>\n",
       "      <td>Toy Story (1995)</td>\n",
       "      <td>Adventure|Animation|Children|Comedy|Fantasy</td>\n",
       "    </tr>\n",
       "    <tr>\n",
       "      <th>1</th>\n",
       "      <td>2</td>\n",
       "      <td>Jumanji (1995)</td>\n",
       "      <td>Adventure|Children|Fantasy</td>\n",
       "    </tr>\n",
       "    <tr>\n",
       "      <th>2</th>\n",
       "      <td>3</td>\n",
       "      <td>Grumpier Old Men (1995)</td>\n",
       "      <td>Comedy|Romance</td>\n",
       "    </tr>\n",
       "    <tr>\n",
       "      <th>3</th>\n",
       "      <td>4</td>\n",
       "      <td>Waiting to Exhale (1995)</td>\n",
       "      <td>Comedy|Drama|Romance</td>\n",
       "    </tr>\n",
       "    <tr>\n",
       "      <th>4</th>\n",
       "      <td>5</td>\n",
       "      <td>Father of the Bride Part II (1995)</td>\n",
       "      <td>Comedy</td>\n",
       "    </tr>\n",
       "  </tbody>\n",
       "</table>\n",
       "</div>"
      ],
      "text/plain": [
       "   movieId                               title  \\\n",
       "0        1                    Toy Story (1995)   \n",
       "1        2                      Jumanji (1995)   \n",
       "2        3             Grumpier Old Men (1995)   \n",
       "3        4            Waiting to Exhale (1995)   \n",
       "4        5  Father of the Bride Part II (1995)   \n",
       "\n",
       "                                        genres  \n",
       "0  Adventure|Animation|Children|Comedy|Fantasy  \n",
       "1                   Adventure|Children|Fantasy  \n",
       "2                               Comedy|Romance  \n",
       "3                         Comedy|Drama|Romance  \n",
       "4                                       Comedy  "
      ]
     },
     "execution_count": 6,
     "metadata": {},
     "output_type": "execute_result"
    }
   ],
   "source": [
    "df_movies.limit(5).toPandas()"
   ]
  },
  {
   "cell_type": "code",
   "execution_count": 7,
   "metadata": {},
   "outputs": [],
   "source": [
    "df_ratings = spark.read.csv('../../../BigInput/ml-20m/ratings.csv',\n",
    "                   header=True,inferSchema=True)"
   ]
  },
  {
   "cell_type": "code",
   "execution_count": 8,
   "metadata": {},
   "outputs": [
    {
     "name": "stdout",
     "output_type": "stream",
     "text": [
      "root\n",
      " |-- userId: integer (nullable = true)\n",
      " |-- movieId: integer (nullable = true)\n",
      " |-- rating: double (nullable = true)\n",
      " |-- timestamp: integer (nullable = true)\n",
      "\n"
     ]
    }
   ],
   "source": [
    "df_ratings.printSchema()"
   ]
  },
  {
   "cell_type": "code",
   "execution_count": 9,
   "metadata": {},
   "outputs": [
    {
     "data": {
      "text/html": [
       "<div>\n",
       "<style scoped>\n",
       "    .dataframe tbody tr th:only-of-type {\n",
       "        vertical-align: middle;\n",
       "    }\n",
       "\n",
       "    .dataframe tbody tr th {\n",
       "        vertical-align: top;\n",
       "    }\n",
       "\n",
       "    .dataframe thead th {\n",
       "        text-align: right;\n",
       "    }\n",
       "</style>\n",
       "<table border=\"1\" class=\"dataframe\">\n",
       "  <thead>\n",
       "    <tr style=\"text-align: right;\">\n",
       "      <th></th>\n",
       "      <th>userId</th>\n",
       "      <th>movieId</th>\n",
       "      <th>rating</th>\n",
       "      <th>timestamp</th>\n",
       "    </tr>\n",
       "  </thead>\n",
       "  <tbody>\n",
       "    <tr>\n",
       "      <th>0</th>\n",
       "      <td>1</td>\n",
       "      <td>2</td>\n",
       "      <td>3.5</td>\n",
       "      <td>1112486027</td>\n",
       "    </tr>\n",
       "    <tr>\n",
       "      <th>1</th>\n",
       "      <td>1</td>\n",
       "      <td>29</td>\n",
       "      <td>3.5</td>\n",
       "      <td>1112484676</td>\n",
       "    </tr>\n",
       "    <tr>\n",
       "      <th>2</th>\n",
       "      <td>1</td>\n",
       "      <td>32</td>\n",
       "      <td>3.5</td>\n",
       "      <td>1112484819</td>\n",
       "    </tr>\n",
       "    <tr>\n",
       "      <th>3</th>\n",
       "      <td>1</td>\n",
       "      <td>47</td>\n",
       "      <td>3.5</td>\n",
       "      <td>1112484727</td>\n",
       "    </tr>\n",
       "    <tr>\n",
       "      <th>4</th>\n",
       "      <td>1</td>\n",
       "      <td>50</td>\n",
       "      <td>3.5</td>\n",
       "      <td>1112484580</td>\n",
       "    </tr>\n",
       "  </tbody>\n",
       "</table>\n",
       "</div>"
      ],
      "text/plain": [
       "   userId  movieId  rating   timestamp\n",
       "0       1        2     3.5  1112486027\n",
       "1       1       29     3.5  1112484676\n",
       "2       1       32     3.5  1112484819\n",
       "3       1       47     3.5  1112484727\n",
       "4       1       50     3.5  1112484580"
      ]
     },
     "execution_count": 9,
     "metadata": {},
     "output_type": "execute_result"
    }
   ],
   "source": [
    "df_ratings.limit(5).toPandas()"
   ]
  },
  {
   "cell_type": "code",
   "execution_count": 10,
   "metadata": {},
   "outputs": [],
   "source": [
    "# %load spark_functions.py\n",
    "import numpy as np\n",
    "from sklearn.metrics import mean_squared_error\n",
    "from scipy import spatial\n",
    "from pyspark.sql.functions import lower, col\n",
    "\n",
    "\n",
    "def split_genres(rdd):\n",
    "    return rdd.map(lambda x: (x.movieId, x.genres)) \\\n",
    "        .keyBy(lambda x: x[0]) \\\n",
    "        .mapValues(lambda x: x[1].lower().split('|')) \\\n",
    "        .flatMapValues(lambda x: x)\n",
    "\n",
    "\n",
    "def count_genres(rdd):\n",
    "    return rdd.map(lambda x: (x[1], 1)).reduceByKey(lambda a, b: a + b)\n",
    "\n",
    "\n",
    "def ratings_stats(rdd_genres, rdd_ratings):\n",
    "    return rdd_genres.join(rdd_ratings.map(lambda x: (x.movieId, x.rating))) \\\n",
    "        .map(lambda x: (x[1][0], (x[1][1], 1))) \\\n",
    "        .reduceByKey(lambda a, b: (a[0] + b[0], a[1] + b[1])) \\\n",
    "        .map(lambda x: (x[0],*x[1], x[1][0] / x[1][1]))\n",
    "\n",
    "\n",
    "def contains_element(x, titles):\n",
    "    for title in titles.value:\n",
    "        if title[0] in x:\n",
    "            return title[1]\n",
    "    return None\n",
    "\n",
    "\n",
    "def get_films_ids(df, titles):\n",
    "    return df.withColumn('title_lower', lower(col('title'))) \\\n",
    "        .rdd.map(lambda x: (x.movieId, x.title_lower)) \\\n",
    "        .map(lambda x: (x[0], contains_element(x[1], titles))) \\\n",
    "        .filter(lambda x: x[1])\n",
    "\n",
    "\n",
    "def ratings_similarity_MSE(l, d, v):\n",
    "    result = np.zeros(len(d.value))\n",
    "    for movieId, rating in l:\n",
    "        result[d.value[movieId]] = rating\n",
    "    return mean_squared_error(result, v.value)\n",
    "\n",
    "\n",
    "def ratings_similarity_COS(l, d, v):\n",
    "    result = np.zeros(len(d.value))\n",
    "    for movieId, rating in l:\n",
    "        result[d.value[movieId]] = rating\n",
    "    sim = 1 - spatial.distance.cosine(result, v.value)\n",
    "    return 2 / (1 / sim + 1 / len(l))\n",
    "\n",
    "\n",
    "def get_similarity(rdd, db, vb, ids, top=10, similarity_function=ratings_similarity_MSE):\n",
    "    return rdd.filter(lambda x: x.movieId in ids.value) \\\n",
    "        .map(lambda x: (x.userId, [(x.movieId, x.rating)])) \\\n",
    "        .reduceByKey(lambda a, b: a + b) \\\n",
    "        .mapValues(lambda x: similarity_function(x, db, vb)) \\\n",
    "        .takeOrdered(top, key=lambda x: x[1])\n",
    "\n",
    "\n",
    "def harmonic(a, b):\n",
    "    return 2 / (1 / a + 1 / b)\n",
    "\n",
    "\n",
    "def get_films_stats(rdd_users, rdd_ratings, seen_films_id, top=10):\n",
    "    tmp = rdd_ratings.filter(lambda x: x.movieId not in seen_films_id.value) \\\n",
    "        .keyBy(lambda x: x.userId) \\\n",
    "        .mapValues(lambda x: (x.movieId, x.rating))\n",
    "    return rdd_users.join(tmp) \\\n",
    "        .map(lambda x: x[1][1]) \\\n",
    "        .mapValues(lambda x: (x, 1)) \\\n",
    "        .reduceByKey(lambda a, b: (a[0] + b[0], a[1] + b[1])) \\\n",
    "        .mapValues(lambda x: (x[0] / x[1], x[1])) \\\n",
    "        .mapValues(lambda x: (*x, harmonic(x[0], x[1]))) \\\n",
    "        .top(top, key=lambda x: x[1][2])\n",
    "\n",
    "\n",
    "def get_recommendations(rdd_films_stats, rdd_films):\n",
    "    columns = ['rating', 'users_seen', 'f_score', 'title', 'genres']\n",
    "    rdd_films_data = rdd_films.map(lambda x: (x.movieId, (x.title, x.genres)))\n",
    "    return rdd_films_stats.join(rdd_films_data) \\\n",
    "        .map(lambda x: (*x[1][0], *x[1][1])) \\\n",
    "        .toDF(columns).orderBy('f_score', ascending=False)\n",
    "\n",
    "\n",
    "def recommendations_pipe(sc, df_movies, df_ratings, titles, n_top_users=10,\n",
    "                         n_top_films=10, similarity_function=ratings_similarity_MSE):\n",
    "    titles_b = sc.broadcast(titles)\n",
    "    ids_and_ratings = get_films_ids(df_movies, titles_b).collect()\n",
    "    titles_b.unpersist()\n",
    "    ids, ratings = zip(*ids_and_ratings)\n",
    "    positions_b = sc.broadcast({k: v for v, k in enumerate(ids)})\n",
    "    ratings_b = sc.broadcast(ratings)\n",
    "    seen_films_id_b = sc.broadcast(ids)\n",
    "    top_user = get_similarity(df_ratings.rdd, positions_b, ratings_b, seen_films_id_b,\n",
    "                              n_top_users, similarity_function)\n",
    "    ratings_b.unpersist()\n",
    "    positions_b.unpersist()\n",
    "    rdd_users = sc.parallelize(top_user)\n",
    "    films_stats = get_films_stats(rdd_users, df_ratings.rdd, seen_films_id_b, n_top_films)\n",
    "    seen_films_id_b.unpersist()\n",
    "    rdd_films_stats = sc.parallelize(films_stats)\n",
    "    return get_recommendations(rdd_films_stats, df_movies.rdd)\n"
   ]
  },
  {
   "cell_type": "markdown",
   "metadata": {},
   "source": [
    "<a id='_4'></a>\n",
    "## 4. Eksploracja zbioru"
   ]
  },
  {
   "cell_type": "markdown",
   "metadata": {},
   "source": [
    "<a id='_4_1'></a>\n",
    "### 4.1. 10 gatunków filmowych z największą liczbą produkcji"
   ]
  },
  {
   "cell_type": "code",
   "execution_count": 11,
   "metadata": {},
   "outputs": [
    {
     "data": {
      "image/png": "[encoded data removed]",
      "text/plain": [
       "<matplotlib.figure.Figure at 0x7fb439f72898>"
      ]
     },
     "metadata": {},
     "output_type": "display_data"
    }
   ],
   "source": [
    "s_genres = split_genres(df_movies.rdd)\n",
    "s_genres.persist()\n",
    "genres_count = count_genres(s_genres)\n",
    "df_genres = genres_count.toDF(['genre','count']).orderBy('count',ascending=False).toPandas()\n",
    "sns.barplot(x='count',y='genre',data=df_genres.head(10))\n",
    "plt.title('10 najczęściej występujących gatunków filmowych')\n",
    "plt.xlabel('liczba filmów')\n",
    "plt.ylabel('gatunek');"
   ]
  },
  {
   "cell_type": "markdown",
   "metadata": {},
   "source": [
    "<a id='_4_2'></a>\n",
    "### 4.2. 10 najczęściej ocenianych gatunków filmowych"
   ]
  },
  {
   "cell_type": "code",
   "execution_count": 12,
   "metadata": {},
   "outputs": [],
   "source": [
    "popular_genres = ratings_stats(s_genres,df_ratings.rdd)"
   ]
  },
  {
   "cell_type": "code",
   "execution_count": 13,
   "metadata": {},
   "outputs": [
    {
     "data": {
      "text/plain": [
       "PythonRDD[30] at RDD at PythonRDD.scala:49"
      ]
     },
     "execution_count": 13,
     "metadata": {},
     "output_type": "execute_result"
    }
   ],
   "source": [
    "df_popular_genres = popular_genres\\\n",
    "    .toDF(['genre','rating_sum','rating_num','rating_mean'])\\\n",
    "    .orderBy('rating_num',ascending=False).toPandas()\n",
    "s_genres.unpersist()"
   ]
  },
  {
   "cell_type": "code",
   "execution_count": 14,
   "metadata": {},
   "outputs": [],
   "source": [
    "top = 10\n",
    "rating_num_mln = df_popular_genres.head(top).rating_num/1000000"
   ]
  },
  {
   "cell_type": "code",
   "execution_count": 15,
   "metadata": {},
   "outputs": [
    {
     "data": {
      "image/png": "[encoded data removed]",
      "text/plain": [
       "<matplotlib.figure.Figure at 0x7fb3f411feb8>"
      ]
     },
     "metadata": {},
     "output_type": "display_data"
    }
   ],
   "source": [
    "sns.barplot(x=rating_num_mln,y=df_popular_genres.head(top).genre)\n",
    "plt.title('10 najczęściej ocenianych gatunków filmowych')\n",
    "plt.xlabel('liczba ocen (w milionach)')\n",
    "plt.ylabel('gatunek');"
   ]
  },
  {
   "cell_type": "markdown",
   "metadata": {},
   "source": [
    "<a id='_4_3'></a>\n",
    "### 4.3. 10 najlepiej ocenianych gatunków filmowych"
   ]
  },
  {
   "cell_type": "code",
   "execution_count": 16,
   "metadata": {},
   "outputs": [
    {
     "data": {
      "image/png": "[encoded data removed]",
      "text/plain": [
       "<matplotlib.figure.Figure at 0x7fb3f411c128>"
      ]
     },
     "metadata": {},
     "output_type": "display_data"
    }
   ],
   "source": [
    "sns.barplot(x='rating_mean',y='genre',\n",
    "            data=df_popular_genres.sort_values('rating_mean',ascending=False)\\\n",
    "            .head(top))\n",
    "plt.title('10 najlepiej ocenianych gatunków filmowych')\n",
    "plt.xlabel('ocena')\n",
    "plt.ylabel('gatunek');"
   ]
  },
  {
   "cell_type": "markdown",
   "metadata": {},
   "source": [
    "<a id='_5'></a>\n",
    "## 5. Rekomendacje"
   ]
  },
  {
   "cell_type": "markdown",
   "metadata": {},
   "source": [
    "Serwisy zajmujące się generowaniem rekomendacji zwykle sprawdzają wzajemne podobieństwo wszystkich użytkowników względem siebie. Następnie wyniki są zapisywane i wykorzystywane aż do aktualizacji podobieństw. Dzięki takiemu podejściu np. strona internetowa odpytywana o rekomendację zwraca ją natychmiast bez dodatkowych obliczeń. <br>\n",
    "Zawarty tutaj system sprawdza podobieństwo pomiędzy daną listą filmów wraz z ocenami a preferencjami użytkowników. Zaletą takie podejścia jest możliwość wygenerowania rekomendacji na komputerze osobistym w czasie kilku minut, które można poświęcić np. na przygotowanie przekąsek do filmu. A także oszczędność pamięci RAM. <br>\n",
    "Podobieństwa pomiędzy daną listą filmów a preferencjami innych oceniających są ustalane za pomocą błędu średniokwadratowego danego wzorem $\\text{MSE}(x, u) = \\frac{1}{n_\\text{ratings}} \\sum_{i=0}^{n_\\text{ratings} - 1} (x_i - u_i)^2$, gdzie $x_i$ oznacza ocenę i-tego filmu z listy, $u_i$ ocenę i-tego filmu wystawioną, przez którego użytkownika podobieństwo badamy, a $n_\\text{ratings}$ liczbę filmów znajdujących się na podanej liście.<br>\n",
    "Następnie wybieramy N najbardziej podobnych użytkowników i liczymy średnią arytmetyczną z ich głosów.<br>\n",
    "W ostatnim kroku liczymy średnią harmoniczną z liczby najbardziej podobnych użytkowników, która oceniła dany film oraz ich średniej oceny dla niego. <br>\n",
    "Podsumowując, szukamy najpierw określonej liczby użytkowników o guście zbliżonym do naszego. Następnie filmów najczęściej oglądanych oraz najlepiej ocenianych przez ludzi o podobnych upodobaniach. "
   ]
  },
  {
   "cell_type": "code",
   "execution_count": 17,
   "metadata": {},
   "outputs": [
    {
     "name": "stdout",
     "output_type": "stream",
     "text": [
      "Czas generowania rekomendacji 6m 52.85s.\n"
     ]
    },
    {
     "data": {
      "text/html": [
       "<div>\n",
       "<style scoped>\n",
       "    .dataframe tbody tr th:only-of-type {\n",
       "        vertical-align: middle;\n",
       "    }\n",
       "\n",
       "    .dataframe tbody tr th {\n",
       "        vertical-align: top;\n",
       "    }\n",
       "\n",
       "    .dataframe thead th {\n",
       "        text-align: right;\n",
       "    }\n",
       "</style>\n",
       "<table border=\"1\" class=\"dataframe\">\n",
       "  <thead>\n",
       "    <tr style=\"text-align: right;\">\n",
       "      <th></th>\n",
       "      <th>rating</th>\n",
       "      <th>users_seen</th>\n",
       "      <th>f_score</th>\n",
       "      <th>title</th>\n",
       "      <th>genres</th>\n",
       "    </tr>\n",
       "  </thead>\n",
       "  <tbody>\n",
       "    <tr>\n",
       "      <th>0</th>\n",
       "      <td>4.700000</td>\n",
       "      <td>10</td>\n",
       "      <td>6.394558</td>\n",
       "      <td>Pulp Fiction (1994)</td>\n",
       "      <td>Comedy|Crime|Drama|Thriller</td>\n",
       "    </tr>\n",
       "    <tr>\n",
       "      <th>1</th>\n",
       "      <td>4.650000</td>\n",
       "      <td>10</td>\n",
       "      <td>6.348123</td>\n",
       "      <td>Matrix, The (1999)</td>\n",
       "      <td>Action|Sci-Fi|Thriller</td>\n",
       "    </tr>\n",
       "    <tr>\n",
       "      <th>2</th>\n",
       "      <td>4.500000</td>\n",
       "      <td>10</td>\n",
       "      <td>6.206897</td>\n",
       "      <td>American History X (1998)</td>\n",
       "      <td>Crime|Drama</td>\n",
       "    </tr>\n",
       "    <tr>\n",
       "      <th>3</th>\n",
       "      <td>4.500000</td>\n",
       "      <td>10</td>\n",
       "      <td>6.206897</td>\n",
       "      <td>Seven (a.k.a. Se7en) (1995)</td>\n",
       "      <td>Mystery|Thriller</td>\n",
       "    </tr>\n",
       "    <tr>\n",
       "      <th>4</th>\n",
       "      <td>4.400000</td>\n",
       "      <td>10</td>\n",
       "      <td>6.111111</td>\n",
       "      <td>Departed, The (2006)</td>\n",
       "      <td>Crime|Drama|Thriller</td>\n",
       "    </tr>\n",
       "    <tr>\n",
       "      <th>5</th>\n",
       "      <td>4.400000</td>\n",
       "      <td>10</td>\n",
       "      <td>6.111111</td>\n",
       "      <td>Goodfellas (1990)</td>\n",
       "      <td>Crime|Drama</td>\n",
       "    </tr>\n",
       "    <tr>\n",
       "      <th>6</th>\n",
       "      <td>4.400000</td>\n",
       "      <td>10</td>\n",
       "      <td>6.111111</td>\n",
       "      <td>Silence of the Lambs, The (1991)</td>\n",
       "      <td>Crime|Horror|Thriller</td>\n",
       "    </tr>\n",
       "    <tr>\n",
       "      <th>7</th>\n",
       "      <td>4.400000</td>\n",
       "      <td>10</td>\n",
       "      <td>6.111111</td>\n",
       "      <td>Dark Knight, The (2008)</td>\n",
       "      <td>Action|Crime|Drama|IMAX</td>\n",
       "    </tr>\n",
       "    <tr>\n",
       "      <th>8</th>\n",
       "      <td>4.611111</td>\n",
       "      <td>9</td>\n",
       "      <td>6.097959</td>\n",
       "      <td>Shawshank Redemption, The (1994)</td>\n",
       "      <td>Crime|Drama</td>\n",
       "    </tr>\n",
       "    <tr>\n",
       "      <th>9</th>\n",
       "      <td>4.350000</td>\n",
       "      <td>10</td>\n",
       "      <td>6.062718</td>\n",
       "      <td>Usual Suspects, The (1995)</td>\n",
       "      <td>Crime|Mystery|Thriller</td>\n",
       "    </tr>\n",
       "  </tbody>\n",
       "</table>\n",
       "</div>"
      ],
      "text/plain": [
       "     rating  users_seen   f_score                             title  \\\n",
       "0  4.700000          10  6.394558               Pulp Fiction (1994)   \n",
       "1  4.650000          10  6.348123                Matrix, The (1999)   \n",
       "2  4.500000          10  6.206897         American History X (1998)   \n",
       "3  4.500000          10  6.206897       Seven (a.k.a. Se7en) (1995)   \n",
       "4  4.400000          10  6.111111              Departed, The (2006)   \n",
       "5  4.400000          10  6.111111                 Goodfellas (1990)   \n",
       "6  4.400000          10  6.111111  Silence of the Lambs, The (1991)   \n",
       "7  4.400000          10  6.111111           Dark Knight, The (2008)   \n",
       "8  4.611111           9  6.097959  Shawshank Redemption, The (1994)   \n",
       "9  4.350000          10  6.062718        Usual Suspects, The (1995)   \n",
       "\n",
       "                        genres  \n",
       "0  Comedy|Crime|Drama|Thriller  \n",
       "1       Action|Sci-Fi|Thriller  \n",
       "2                  Crime|Drama  \n",
       "3             Mystery|Thriller  \n",
       "4         Crime|Drama|Thriller  \n",
       "5                  Crime|Drama  \n",
       "6        Crime|Horror|Thriller  \n",
       "7      Action|Crime|Drama|IMAX  \n",
       "8                  Crime|Drama  \n",
       "9       Crime|Mystery|Thriller  "
      ]
     },
     "execution_count": 17,
     "metadata": {},
     "output_type": "execute_result"
    }
   ],
   "source": [
    "titles = [('batman begins',5),('prestige',5),('eyes wide shut',5),\n",
    "               ('inception',5),('matrix revolutions',5),('fight club',5),\n",
    "               ('1408',5),('now you see me',5),('intouchables',5),\n",
    "               ('illusionist',5),('sherlock holmes (2009)',5)]\n",
    "t = time()\n",
    "df_rec = recommendations_pipe(sc, df_movies, df_ratings, titles).toPandas()\n",
    "run_time = time()-t\n",
    "print('Czas generowania rekomendacji %dm %.2fs.'%(run_time//60,run_time%60))\n",
    "df_rec"
   ]
  },
  {
   "cell_type": "markdown",
   "metadata": {},
   "source": [
    "Na komputerze z procesorem 4 x 2.0 GHz generowanie rekomendacji trwało niecałe 7 minut. Domyślnie rekomendacje zawierają 10 tytułów wybieranych na podstawie preferencji 10 najbardziej podobnych użytkowników. <br>\n",
    "Większość tytułów była oceniona przez wszystkie 10 osób. Wyjątkiem jest film z indeksem 8, który pomimo ocen wystawionych jedynie przez 9 oceniających znalazł się w rekomendacji z powodu wysokiej średniej. "
   ]
  }
 ],
 "metadata": {
  "kernelspec": {
   "display_name": "Python 3",
   "language": "python",
   "name": "python3"
  },
  "language_info": {
   "codemirror_mode": {
    "name": "ipython",
    "version": 3
   },
   "file_extension": ".py",
   "mimetype": "text/x-python",
   "name": "python",
   "nbconvert_exporter": "python",
   "pygments_lexer": "ipython3",
   "version": "3.5.4"
  }
 },
 "nbformat": 4,
 "nbformat_minor": 2
}
