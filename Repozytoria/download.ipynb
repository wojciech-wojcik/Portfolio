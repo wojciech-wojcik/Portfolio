{
 "cells": [
  {
   "cell_type": "code",
   "execution_count": null,
   "metadata": {},
   "outputs": [],
   "source": [
    "from github import Github, enable_console_debug_logging\n",
    "import pandas as pd\n",
    "from tqdm import tqdm\n",
    "from IPython.display import clear_output\n",
    "import pathlib\n",
    "import base64\n",
    "import os\n",
    "repo_dir = '../../BigInput/repos2'\n",
    "login = 'Miejsce na login'\n",
    "haslo = 'Miejsce na haslo'\n",
    "query = 'data science portfolio'\n",
    "language = 'Jupyter Notebook'\n",
    "allowed_extensions = ['md', 'ipynb', 'py', 'sh']\n",
    "attributes = ['full_name', 'clone_url', 'description', 'created_at']\n",
    "#lista dostępnych atrybutów\n",
    "#https://pygithub.readthedocs.io/en/latest/github_objects/Repository.html\n",
    "\n",
    "g = Github(login, haslo)"
   ]
  },
  {
   "cell_type": "code",
   "execution_count": null,
   "metadata": {},
   "outputs": [],
   "source": [
    "result = g.search_repositories(query, sort='stars', order='desc')"
   ]
  },
  {
   "cell_type": "code",
   "execution_count": null,
   "metadata": {},
   "outputs": [],
   "source": [
    "jupyter_repo = [e for e in result if e.language == language]"
   ]
  },
  {
   "cell_type": "code",
   "execution_count": null,
   "metadata": {},
   "outputs": [],
   "source": [
    "def get_attributes(l, attributes):\n",
    "    result = []\n",
    "    for e in l:\n",
    "        d = dict()\n",
    "        for attr in attributes:\n",
    "            d[attr] = getattr(e, attr)\n",
    "        result.append(d)\n",
    "    return result\n",
    "\n",
    "\n",
    "df = pd.DataFrame(get_attributes(jupyter_repo, attributes))"
   ]
  },
  {
   "cell_type": "code",
   "execution_count": null,
   "metadata": {},
   "outputs": [],
   "source": [
    "if not os.path.exists(repo_dir):\n",
    "    os.mkdir(repo_dir)"
   ]
  },
  {
   "cell_type": "code",
   "execution_count": null,
   "metadata": {},
   "outputs": [],
   "source": [
    "df.to_csv(os.path.join(repo_dir, 'data.csv'), index=False)"
   ]
  },
  {
   "cell_type": "code",
   "execution_count": null,
   "metadata": {},
   "outputs": [],
   "source": [
    "from tqdm import tqdm\n",
    "import requests\n",
    "from time import sleep\n",
    "from datetime import datetime\n",
    "\n",
    "\n",
    "def download_file(url, path, name):\n",
    "    response = requests.get(url, stream=True)\n",
    "    pathlib.Path(path).mkdir(parents=True, exist_ok=True)\n",
    "    file_path = os.path.join(path, name)\n",
    "    print(file_path)\n",
    "    with open(file_path, \"wb\") as handle:\n",
    "        for data in response.iter_content():\n",
    "            handle.write(data)"
   ]
  },
  {
   "cell_type": "code",
   "execution_count": null,
   "metadata": {},
   "outputs": [],
   "source": [
    "def check_limit(g):\n",
    "    limit = g.get_rate_limit().rate.remaining\n",
    "    if limit < 10:\n",
    "        print('Limit reached')\n",
    "        while limit < 10:\n",
    "            sleep(60)\n",
    "            limit = g.get_rate_limit().rate.remaining\n",
    "        print('New limit')"
   ]
  },
  {
   "cell_type": "code",
   "execution_count": null,
   "metadata": {},
   "outputs": [],
   "source": [
    "def save_error(e, err, repo_dir):\n",
    "    with open(os.path.join(repo_dir, 'errors.txt'), 'a') as f:\n",
    "        f.write(e.full_name + ': ' + str(datetime.now()))\n",
    "        f.write('\\n')\n",
    "        f.write(str(err))\n",
    "        f.write('\\n')"
   ]
  },
  {
   "cell_type": "code",
   "execution_count": null,
   "metadata": {},
   "outputs": [],
   "source": [
    "def download(g, repo, allowed_extensions, local_path, git_path='/'):\n",
    "    check_limit(g)\n",
    "    contents = repo.get_dir_contents(git_path)\n",
    "    for e in contents:\n",
    "        if e.type == 'dir' and e.name != '.ipynb_checkpoints'\\\n",
    "            and e.name !='node_modules':\n",
    "            download(g, repo, allowed_extensions, local_path, e.path)\n",
    "        else:\n",
    "            name = e.name\n",
    "            if name.split('.')[-1] in allowed_extensions:\n",
    "                if git_path != '/':\n",
    "                    path = os.path.join(local_path, git_path)\n",
    "                else:\n",
    "                    path = local_path\n",
    "                download_file(e.download_url, path, name)\n",
    "\n",
    "\n",
    "for e in tqdm(jupyter_repo):\n",
    "    try:\n",
    "        local_path = os.path.join(repo_dir, e.full_name)\n",
    "        download(g, e, allowed_extensions, local_path)\n",
    "        clear_output(wait=True)\n",
    "    except Exception as err:\n",
    "        save_error(e, err, repo_dir)"
   ]
  }
 ],
 "metadata": {
  "kernelspec": {
   "display_name": "Python 3",
   "language": "python",
   "name": "python3"
  },
  "language_info": {
   "codemirror_mode": {
    "name": "ipython",
    "version": 3
   },
   "file_extension": ".py",
   "mimetype": "text/x-python",
   "name": "python",
   "nbconvert_exporter": "python",
   "pygments_lexer": "ipython3",
   "version": "3.5.4"
  },
  "varInspector": {
   "cols": {
    "lenName": 16,
    "lenType": 16,
    "lenVar": 40
   },
   "kernels_config": {
    "python": {
     "delete_cmd_postfix": "",
     "delete_cmd_prefix": "del ",
     "library": "var_list.py",
     "varRefreshCmd": "print(var_dic_list())"
    },
    "r": {
     "delete_cmd_postfix": ") ",
     "delete_cmd_prefix": "rm(",
     "library": "var_list.r",
     "varRefreshCmd": "cat(var_dic_list()) "
    }
   },
   "types_to_exclude": [
    "module",
    "function",
    "builtin_function_or_method",
    "instance",
    "_Feature"
   ],
   "window_display": false
  }
 },
 "nbformat": 4,
 "nbformat_minor": 2
}
